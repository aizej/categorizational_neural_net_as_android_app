{
 "cells": [
  {
   "cell_type": "code",
   "execution_count": 1,
   "metadata": {},
   "outputs": [],
   "source": [
    "import numpy as np\n",
    "import cv2\n",
    "import os\n",
    "import random\n",
    "import matplotlib.pyplot as plt\n",
    "import pickle\n"
   ]
  },
  {
   "cell_type": "code",
   "execution_count": 2,
   "metadata": {},
   "outputs": [],
   "source": [
    "DIRECTORY = r\"C:\\Users\\david\\Desktop\\kodezy\\python\\normalni_projekty\\AI_2typesof images\\dataset\"\n",
    "CATEGORIES = [\"horizontal\",\"vertical\"]"
   ]
  },
  {
   "cell_type": "code",
   "execution_count": 3,
   "metadata": {},
   "outputs": [],
   "source": [
    "IMG_SIZE = 150 #max okolo 300\n",
    "data = []\n",
    "\n",
    "for category in CATEGORIES:                                         #uprava pro zpracovani\n",
    "   folder = os.path.join(DIRECTORY, category)\n",
    "   label = CATEGORIES.index(category)\n",
    "   for img in os.listdir(folder):\n",
    "      img_path = os.path.join(folder, img)\n",
    "      try:\n",
    "         img_array = cv2.imread(img_path)\n",
    "         img_array = cv2.resize(img_array, (IMG_SIZE, IMG_SIZE))\n",
    "         data.append([img_array, label])\n",
    "      except:\n",
    "         print(img_path)\n",
    "         os.remove(img_path)\n",
    "       \n",
    "    \n"
   ]
  },
  {
   "cell_type": "code",
   "execution_count": 4,
   "metadata": {},
   "outputs": [
    {
     "data": {
      "text/plain": [
       "'\"\\nfor i in range(1):\\n    number = random.randint(0,100)\\n    print(data[number][1])\\n    plt.imshow(data[number][0])\\n'"
      ]
     },
     "execution_count": 4,
     "metadata": {},
     "output_type": "execute_result"
    }
   ],
   "source": [
    "len(data)\n",
    "\"\"\"\"\n",
    "for i in range(1):\n",
    "    number = random.randint(0,100)\n",
    "    print(data[number][1])\n",
    "    plt.imshow(data[number][0])\n",
    "\"\"\""
   ]
  },
  {
   "cell_type": "code",
   "execution_count": 5,
   "metadata": {},
   "outputs": [],
   "source": [
    "random.shuffle(data)"
   ]
  },
  {
   "cell_type": "code",
   "execution_count": 6,
   "metadata": {},
   "outputs": [],
   "source": [
    "X = []\n",
    "Y = []\n",
    "\n",
    "for features, labels in data:\n",
    "    X.append(features)\n",
    "    Y.append(labels)"
   ]
  },
  {
   "cell_type": "code",
   "execution_count": 7,
   "metadata": {},
   "outputs": [],
   "source": [
    "X = np.array(X)\n",
    "Y = np.array(Y)"
   ]
  },
  {
   "cell_type": "code",
   "execution_count": 8,
   "metadata": {},
   "outputs": [],
   "source": [
    "pickle.dump(X, open(\"X.pkl\", \"wb\"))\n",
    "pickle.dump(Y, open(\"Y.pkl\", \"wb\"))"
   ]
  }
 ],
 "metadata": {
  "interpreter": {
   "hash": "11eeb4ce9d600457674beaa2637d9f1547470f3fe13b202f2133663a90f3f8a5"
  },
  "kernelspec": {
   "display_name": "Python 3.9.7 64-bit",
   "language": "python",
   "name": "python3"
  },
  "language_info": {
   "codemirror_mode": {
    "name": "ipython",
    "version": 3
   },
   "file_extension": ".py",
   "mimetype": "text/x-python",
   "name": "python",
   "nbconvert_exporter": "python",
   "pygments_lexer": "ipython3",
   "version": "3.10.7"
  },
  "orig_nbformat": 4
 },
 "nbformat": 4,
 "nbformat_minor": 2
}
