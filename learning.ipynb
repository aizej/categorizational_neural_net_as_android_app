{
 "cells": [
  {
   "cell_type": "code",
   "execution_count": 37,
   "metadata": {},
   "outputs": [],
   "source": [
    "import pickle\n",
    "import os\n",
    "import time\n",
    "from tensorflow.keras.callbacks import TensorBoard\n",
    "from keras.models import Sequential\n",
    "from keras.layers import Conv2D, MaxPooling2D, Flatten, Dense, Dropout\n",
    "from tensorflow.keras.layers import BatchNormalization\n",
    "import tensorflow as tf\n",
    "import numpy as np\n",
    "import datetime\n"
   ]
  },
  {
   "cell_type": "code",
   "execution_count": 38,
   "metadata": {},
   "outputs": [],
   "source": [
    "NAME = f\"cat_vs_dogs_4c2_2n{time.time()}\"\n",
    "tensorboard = TensorBoard(log_dir=f\"logs\\\\{NAME}\\\\\")"
   ]
  },
  {
   "cell_type": "code",
   "execution_count": 39,
   "metadata": {},
   "outputs": [],
   "source": [
    "X = pickle.load(open(\"X.pkl\", \"rb\"))\n",
    "Y = pickle.load(open(\"Y.pkl\", \"rb\"))\n"
   ]
  },
  {
   "cell_type": "code",
   "execution_count": 40,
   "metadata": {},
   "outputs": [],
   "source": [
    "X=X/255  # nefunguje pro 300 x 300 "
   ]
  },
  {
   "cell_type": "code",
   "execution_count": 41,
   "metadata": {},
   "outputs": [
    {
     "name": "stdout",
     "output_type": "stream",
     "text": [
      "(10, 150, 150, 3) (10,)\n",
      "[0 0 1 1 1 0 1 1 0 0]\n",
      "[[[0.14509804 0.14117647 0.15686275]\n",
      "  [0.1254902  0.12156863 0.1372549 ]\n",
      "  [0.1254902  0.12156863 0.1372549 ]\n",
      "  ...\n",
      "  [0.1254902  0.12156863 0.1372549 ]\n",
      "  [0.1254902  0.12156863 0.1372549 ]\n",
      "  [0.14509804 0.14117647 0.15686275]]\n",
      "\n",
      " [[0.14509804 0.14117647 0.15686275]\n",
      "  [0.1254902  0.12156863 0.1372549 ]\n",
      "  [0.1254902  0.12156863 0.1372549 ]\n",
      "  ...\n",
      "  [0.1254902  0.12156863 0.1372549 ]\n",
      "  [0.1254902  0.12156863 0.1372549 ]\n",
      "  [0.14509804 0.14117647 0.15686275]]\n",
      "\n",
      " [[0.14509804 0.14117647 0.15686275]\n",
      "  [0.1254902  0.12156863 0.1372549 ]\n",
      "  [0.1254902  0.12156863 0.1372549 ]\n",
      "  ...\n",
      "  [0.1254902  0.12156863 0.1372549 ]\n",
      "  [0.1254902  0.12156863 0.1372549 ]\n",
      "  [0.14509804 0.14117647 0.15686275]]\n",
      "\n",
      " ...\n",
      "\n",
      " [[0.14117647 0.07058824 0.06666667]\n",
      "  [0.14117647 0.07058824 0.06666667]\n",
      "  [0.14117647 0.07058824 0.06666667]\n",
      "  ...\n",
      "  [0.14117647 0.07058824 0.06666667]\n",
      "  [0.14117647 0.07058824 0.06666667]\n",
      "  [0.14117647 0.07058824 0.06666667]]\n",
      "\n",
      " [[0.14117647 0.07058824 0.06666667]\n",
      "  [0.14117647 0.07058824 0.06666667]\n",
      "  [0.14117647 0.07058824 0.06666667]\n",
      "  ...\n",
      "  [0.14117647 0.07058824 0.06666667]\n",
      "  [0.14117647 0.07058824 0.06666667]\n",
      "  [0.14117647 0.07058824 0.06666667]]\n",
      "\n",
      " [[0.14117647 0.07058824 0.06666667]\n",
      "  [0.14117647 0.07058824 0.06666667]\n",
      "  [0.14117647 0.07058824 0.06666667]\n",
      "  ...\n",
      "  [0.14117647 0.07058824 0.06666667]\n",
      "  [0.14117647 0.07058824 0.06666667]\n",
      "  [0.14117647 0.07058824 0.06666667]]]\n"
     ]
    }
   ],
   "source": [
    "print(X.shape, Y.shape)\n",
    "print(Y)\n",
    "print(X[0])\n"
   ]
  },
  {
   "cell_type": "code",
   "execution_count": 42,
   "metadata": {},
   "outputs": [],
   "source": [
    "\n",
    "model = Sequential()\n",
    "\n",
    "model.add(Conv2D(32, (3,3), activation=\"relu\"))\n",
    "model.add(MaxPooling2D((2,2)))\n",
    "model.add(Dropout(0.25))\n",
    "\n",
    "model.add(Conv2D(64, (3,3), activation=\"relu\"))\n",
    "model.add(MaxPooling2D((2,2)))\n",
    "model.add(Dropout(0.25))\n",
    "\n",
    "model.add(Conv2D(128, (3,3), activation=\"relu\"))\n",
    "model.add(MaxPooling2D((2,2)))\n",
    "model.add(Dropout(0.25))\n",
    "\n",
    "model.add(Conv2D(256, (3,3), activation=\"relu\"))\n",
    "model.add(MaxPooling2D((2,2)))\n",
    "model.add(Dropout(0.25))\n",
    "\n",
    "model.add(Flatten())\n",
    "\n",
    "model.add(Dense(256, input_shape = X.shape[1:], activation= \"relu\"))\n",
    "model.add(Dropout(0.5))\n",
    "\n",
    "model.add(Dense(128, activation= \"relu\"))\n",
    "model.add(Dropout(0.5))\n",
    "\n",
    "model.add(Dense(2, activation= \"softmax\"))\n"
   ]
  },
  {
   "cell_type": "code",
   "execution_count": null,
   "metadata": {},
   "outputs": [],
   "source": []
  },
  {
   "cell_type": "code",
   "execution_count": 43,
   "metadata": {},
   "outputs": [],
   "source": [
    "#opt = tf.keras.optimizers.Adam(learning_rate=1e-6)\n",
    "model.compile(optimizer=\"adam\", loss=\"sparse_categorical_crossentropy\", metrics=[\"accuracy\"])\n",
    "\n",
    "#from tensorflow import keras\n",
    "#model = keras.models.load_model(r'C:\\Users\\david\\Desktop\\kodezy\\python\\normalni_projekty\\AI_2typesof images\\done models\\cat_vs_dogs_bigger_1649223531.978945_10epochs.h5')\n",
    "#model.summary()"
   ]
  },
  {
   "cell_type": "code",
   "execution_count": 44,
   "metadata": {},
   "outputs": [
    {
     "name": "stdout",
     "output_type": "stream",
     "text": [
      "Epoch 1/40\n"
     ]
    },
    {
     "name": "stdout",
     "output_type": "stream",
     "text": [
      "1/1 [==============================] - 2s 2s/step - loss: 0.7174 - accuracy: 0.5556 - val_loss: 1.4286 - val_accuracy: 0.0000e+00\n",
      "Epoch 2/40\n",
      "1/1 [==============================] - 0s 174ms/step - loss: 1.6969 - accuracy: 0.5556 - val_loss: 0.7540 - val_accuracy: 0.0000e+00\n",
      "Epoch 3/40\n",
      "1/1 [==============================] - 0s 174ms/step - loss: 0.5168 - accuracy: 0.7778 - val_loss: 0.6304 - val_accuracy: 1.0000\n",
      "Epoch 4/40\n",
      "1/1 [==============================] - 0s 172ms/step - loss: 0.8455 - accuracy: 0.4444 - val_loss: 0.6820 - val_accuracy: 1.0000\n",
      "Epoch 5/40\n",
      "1/1 [==============================] - 0s 171ms/step - loss: 0.7136 - accuracy: 0.6667 - val_loss: 0.7186 - val_accuracy: 0.0000e+00\n",
      "Epoch 6/40\n",
      "1/1 [==============================] - 0s 178ms/step - loss: 1.2552 - accuracy: 0.4444 - val_loss: 0.7397 - val_accuracy: 0.0000e+00\n",
      "Epoch 7/40\n",
      "1/1 [==============================] - 0s 178ms/step - loss: 0.9246 - accuracy: 0.3333 - val_loss: 0.7345 - val_accuracy: 0.0000e+00\n",
      "Epoch 8/40\n",
      "1/1 [==============================] - 0s 177ms/step - loss: 0.7884 - accuracy: 0.4444 - val_loss: 0.7206 - val_accuracy: 0.0000e+00\n",
      "Epoch 9/40\n",
      "1/1 [==============================] - 0s 174ms/step - loss: 0.6498 - accuracy: 0.4444 - val_loss: 0.7088 - val_accuracy: 0.0000e+00\n",
      "Epoch 10/40\n",
      "1/1 [==============================] - 0s 182ms/step - loss: 0.6520 - accuracy: 0.5556 - val_loss: 0.7016 - val_accuracy: 0.0000e+00\n",
      "Epoch 11/40\n",
      "1/1 [==============================] - 0s 174ms/step - loss: 0.7297 - accuracy: 0.4444 - val_loss: 0.6963 - val_accuracy: 0.0000e+00\n",
      "Epoch 12/40\n",
      "1/1 [==============================] - 0s 175ms/step - loss: 0.6775 - accuracy: 0.5556 - val_loss: 0.6931 - val_accuracy: 1.0000\n",
      "Epoch 13/40\n",
      "1/1 [==============================] - 0s 177ms/step - loss: 0.6500 - accuracy: 0.6667 - val_loss: 0.6925 - val_accuracy: 1.0000\n",
      "Epoch 14/40\n",
      "1/1 [==============================] - 0s 174ms/step - loss: 0.6796 - accuracy: 0.3333 - val_loss: 0.6925 - val_accuracy: 1.0000\n",
      "Epoch 15/40\n",
      "1/1 [==============================] - 0s 169ms/step - loss: 0.6674 - accuracy: 0.3333 - val_loss: 0.6917 - val_accuracy: 1.0000\n",
      "Epoch 16/40\n",
      "1/1 [==============================] - 0s 183ms/step - loss: 0.6575 - accuracy: 0.4444 - val_loss: 0.6917 - val_accuracy: 1.0000\n",
      "Epoch 17/40\n",
      "1/1 [==============================] - 0s 179ms/step - loss: 0.6199 - accuracy: 0.6667 - val_loss: 0.6935 - val_accuracy: 0.0000e+00\n",
      "Epoch 18/40\n",
      "1/1 [==============================] - 0s 183ms/step - loss: 0.6153 - accuracy: 0.5556 - val_loss: 0.6977 - val_accuracy: 0.0000e+00\n",
      "Epoch 19/40\n",
      "1/1 [==============================] - 0s 176ms/step - loss: 0.5405 - accuracy: 0.5556 - val_loss: 0.7014 - val_accuracy: 0.0000e+00\n",
      "Epoch 20/40\n",
      "1/1 [==============================] - 0s 177ms/step - loss: 0.5314 - accuracy: 0.5556 - val_loss: 0.6987 - val_accuracy: 0.0000e+00\n",
      "Epoch 21/40\n",
      "1/1 [==============================] - 0s 183ms/step - loss: 0.5216 - accuracy: 0.5556 - val_loss: 0.6818 - val_accuracy: 1.0000\n",
      "Epoch 22/40\n",
      "1/1 [==============================] - 0s 176ms/step - loss: 0.4838 - accuracy: 0.5556 - val_loss: 0.6740 - val_accuracy: 1.0000\n",
      "Epoch 23/40\n",
      "1/1 [==============================] - 0s 185ms/step - loss: 0.3999 - accuracy: 0.5556 - val_loss: 0.6710 - val_accuracy: 1.0000\n",
      "Epoch 24/40\n",
      "1/1 [==============================] - 0s 187ms/step - loss: 0.3695 - accuracy: 0.8889 - val_loss: 0.6681 - val_accuracy: 1.0000\n",
      "Epoch 25/40\n",
      "1/1 [==============================] - 0s 172ms/step - loss: 0.3715 - accuracy: 1.0000 - val_loss: 0.6647 - val_accuracy: 1.0000\n",
      "Epoch 26/40\n",
      "1/1 [==============================] - 0s 187ms/step - loss: 0.3055 - accuracy: 1.0000 - val_loss: 0.6606 - val_accuracy: 1.0000\n",
      "Epoch 27/40\n",
      "1/1 [==============================] - 0s 187ms/step - loss: 0.3026 - accuracy: 1.0000 - val_loss: 0.6550 - val_accuracy: 1.0000\n",
      "Epoch 28/40\n",
      "1/1 [==============================] - 0s 174ms/step - loss: 0.2933 - accuracy: 1.0000 - val_loss: 0.6480 - val_accuracy: 1.0000\n",
      "Epoch 29/40\n",
      "1/1 [==============================] - 0s 172ms/step - loss: 0.2771 - accuracy: 1.0000 - val_loss: 0.6388 - val_accuracy: 1.0000\n",
      "Epoch 30/40\n",
      "1/1 [==============================] - 0s 171ms/step - loss: 0.2820 - accuracy: 1.0000 - val_loss: 0.6268 - val_accuracy: 1.0000\n",
      "Epoch 31/40\n",
      "1/1 [==============================] - 0s 172ms/step - loss: 0.2962 - accuracy: 1.0000 - val_loss: 0.6108 - val_accuracy: 1.0000\n",
      "Epoch 32/40\n",
      "1/1 [==============================] - 0s 170ms/step - loss: 0.2480 - accuracy: 1.0000 - val_loss: 0.5877 - val_accuracy: 1.0000\n",
      "Epoch 33/40\n",
      "1/1 [==============================] - 0s 182ms/step - loss: 0.2468 - accuracy: 1.0000 - val_loss: 0.5552 - val_accuracy: 1.0000\n",
      "Epoch 34/40\n",
      "1/1 [==============================] - 0s 184ms/step - loss: 0.2261 - accuracy: 1.0000 - val_loss: 0.5106 - val_accuracy: 1.0000\n",
      "Epoch 35/40\n",
      "1/1 [==============================] - 0s 180ms/step - loss: 0.2288 - accuracy: 1.0000 - val_loss: 0.4525 - val_accuracy: 1.0000\n",
      "Epoch 36/40\n",
      "1/1 [==============================] - 0s 183ms/step - loss: 0.1911 - accuracy: 1.0000 - val_loss: 0.3767 - val_accuracy: 1.0000\n",
      "Epoch 37/40\n",
      "1/1 [==============================] - 0s 195ms/step - loss: 0.1683 - accuracy: 1.0000 - val_loss: 0.2842 - val_accuracy: 1.0000\n",
      "Epoch 38/40\n",
      "1/1 [==============================] - 0s 185ms/step - loss: 0.1083 - accuracy: 1.0000 - val_loss: 0.1816 - val_accuracy: 1.0000\n",
      "Epoch 39/40\n",
      "1/1 [==============================] - 0s 169ms/step - loss: 0.0318 - accuracy: 1.0000 - val_loss: 0.0909 - val_accuracy: 1.0000\n",
      "Epoch 40/40\n",
      "1/1 [==============================] - 0s 172ms/step - loss: 0.0192 - accuracy: 1.0000 - val_loss: 0.0337 - val_accuracy: 1.0000\n"
     ]
    },
    {
     "data": {
      "text/plain": [
       "<keras.callbacks.History at 0x28a85a14f70>"
      ]
     },
     "execution_count": 44,
     "metadata": {},
     "output_type": "execute_result"
    }
   ],
   "source": [
    "epochs = 40\n",
    "model.fit(X, Y, epochs=epochs, validation_split=0.1, callbacks=tensorboard)"
   ]
  },
  {
   "cell_type": "code",
   "execution_count": 45,
   "metadata": {},
   "outputs": [],
   "source": [
    "import matplotlib.pyplot as plt\n",
    "import numpy as np"
   ]
  },
  {
   "cell_type": "code",
   "execution_count": 50,
   "metadata": {},
   "outputs": [
    {
     "name": "stdout",
     "output_type": "stream",
     "text": [
      "1/1 [==============================] - 0s 21ms/step\n",
      "horizontal   0.9686914086341858%\n",
      "\n"
     ]
    },
    {
     "data": {
      "text/plain": [
       "<matplotlib.image.AxesImage at 0x28a8b9ccc40>"
      ]
     },
     "execution_count": 50,
     "metadata": {},
     "output_type": "execute_result"
    },
    {
     "data": {
      "image/png": "[encoded data removed]",
      "text/plain": [
       "<Figure size 432x288 with 1 Axes>"
      ]
     },
     "metadata": {
      "needs_background": "light"
     },
     "output_type": "display_data"
    }
   ],
   "source": [
    "CATEGORIES = [\"horizontal\",\"vertical\"]\n",
    "speciment = 1\n",
    "\n",
    "\n",
    "prediction = model.predict(np.array([X[speciment]]))\n",
    "prediction = prediction[0].tolist()\n",
    "\n",
    "print(CATEGORIES[prediction.index(max(prediction))],f\"  {max(prediction)}%\\n\")\n",
    "plt.imshow(X[speciment])"
   ]
  },
  {
   "cell_type": "code",
   "execution_count": 51,
   "metadata": {},
   "outputs": [],
   "source": [
    "import cv2"
   ]
  },
  {
   "cell_type": "code",
   "execution_count": 52,
   "metadata": {},
   "outputs": [
    {
     "name": "stdout",
     "output_type": "stream",
     "text": [
      "1/1 [==============================] - 0s 21ms/step\n",
      "[0.0003586570965126157, 0.9996412992477417]\n",
      "vertical   99.96412992477417%\n",
      "\n"
     ]
    },
    {
     "data": {
      "text/plain": [
       "<matplotlib.image.AxesImage at 0x28a8b9aead0>"
      ]
     },
     "execution_count": 52,
     "metadata": {},
     "output_type": "execute_result"
    },
    {
     "data": {
      "image/png": "[encoded data removed]",
      "text/plain": [
       "<Figure size 432x288 with 1 Axes>"
      ]
     },
     "metadata": {
      "needs_background": "light"
     },
     "output_type": "display_data"
    }
   ],
   "source": [
    "my_image = cv2.imread(r\"11ded.png\")\n",
    "my_image = cv2.resize(my_image, (150, 150))\n",
    "my_image = my_image/255\n",
    "\n",
    "prediction = model.predict(np.array([my_image]))\n",
    "prediction = prediction[0].tolist()\n",
    "print(prediction)\n",
    "\n",
    "print(CATEGORIES[prediction.index(max(prediction))],f\"  {max(prediction) * 100}%\\n\")\n",
    "plt.imshow(my_image)"
   ]
  },
  {
   "cell_type": "code",
   "execution_count": 53,
   "metadata": {},
   "outputs": [],
   "source": [
    "model.save(f\"{NAME}_{epochs}epochs.h5\")"
   ]
  }
 ],
 "metadata": {
  "kernelspec": {
   "display_name": "Python 3.9.9 64-bit",
   "language": "python",
   "name": "python3"
  },
  "language_info": {
   "codemirror_mode": {
    "name": "ipython",
    "version": 3
   },
   "file_extension": ".py",
   "mimetype": "text/x-python",
   "name": "python",
   "nbconvert_exporter": "python",
   "pygments_lexer": "ipython3",
   "version": "3.10.7"
  },
  "orig_nbformat": 4,
  "vscode": {
   "interpreter": {
    "hash": "72f235a78b5cf937fd09c1593b6a0e4473f824a03930b62c2c7d9a177b9de8f3"
   }
  }
 },
 "nbformat": 4,
 "nbformat_minor": 2
}
